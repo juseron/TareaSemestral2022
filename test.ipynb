{
 "cells": [
  {
   "cell_type": "markdown",
   "id": "20b1fddf",
   "metadata": {},
   "source": [
    "## Flujo Principal"
   ]
  },
  {
   "cell_type": "code",
   "execution_count": null,
   "id": "af6401c1",
   "metadata": {},
   "outputs": [],
   "source": [
    "from random import randint\n",
    "from rich import print"
   ]
  },
  {
   "cell_type": "code",
   "execution_count": 52,
   "id": "4da2fe4e",
   "metadata": {},
   "outputs": [
    {
     "data": {
      "text/html": [
       "<pre style=\"white-space:pre;overflow-x:auto;line-height:normal;font-family:Menlo,'DejaVu Sans Mono',consolas,'Courier New',monospace\">Repartiendo cachos <span style=\"color: #808000; text-decoration-color: #808000\">...</span>\n",
       "</pre>\n"
      ],
      "text/plain": [
       "Repartiendo cachos \u001b[33m...\u001b[0m\n"
      ]
     },
     "metadata": {},
     "output_type": "display_data"
    },
    {
     "data": {
      "text/html": [
       "<pre style=\"white-space:pre;overflow-x:auto;line-height:normal;font-family:Menlo,'DejaVu Sans Mono',consolas,'Courier New',monospace\"><span style=\"font-weight: bold\">[</span>\n",
       "    <span style=\"font-weight: bold\">{</span><span style=\"color: #008000; text-decoration-color: #008000\">'jugador'</span>: <span style=\"color: #008080; text-decoration-color: #008080; font-weight: bold\">1</span>, <span style=\"color: #008000; text-decoration-color: #008000\">'dado1'</span>: <span style=\"color: #008080; text-decoration-color: #008080; font-weight: bold\">3</span>, <span style=\"color: #008000; text-decoration-color: #008000\">'dado2'</span>: <span style=\"color: #008080; text-decoration-color: #008080; font-weight: bold\">5</span>, <span style=\"color: #008000; text-decoration-color: #008000\">'dado3'</span>: <span style=\"color: #008080; text-decoration-color: #008080; font-weight: bold\">6</span>, <span style=\"color: #008000; text-decoration-color: #008000\">'dado4'</span>: <span style=\"color: #008080; text-decoration-color: #008080; font-weight: bold\">6</span>, <span style=\"color: #008000; text-decoration-color: #008000\">'dado5'</span>: <span style=\"color: #008080; text-decoration-color: #008080; font-weight: bold\">3</span><span style=\"font-weight: bold\">}</span>,\n",
       "    <span style=\"font-weight: bold\">{</span><span style=\"color: #008000; text-decoration-color: #008000\">'jugador'</span>: <span style=\"color: #008080; text-decoration-color: #008080; font-weight: bold\">2</span>, <span style=\"color: #008000; text-decoration-color: #008000\">'dado1'</span>: <span style=\"color: #008080; text-decoration-color: #008080; font-weight: bold\">2</span>, <span style=\"color: #008000; text-decoration-color: #008000\">'dado2'</span>: <span style=\"color: #008080; text-decoration-color: #008080; font-weight: bold\">1</span>, <span style=\"color: #008000; text-decoration-color: #008000\">'dado3'</span>: <span style=\"color: #008080; text-decoration-color: #008080; font-weight: bold\">2</span>, <span style=\"color: #008000; text-decoration-color: #008000\">'dado4'</span>: <span style=\"color: #008080; text-decoration-color: #008080; font-weight: bold\">5</span>, <span style=\"color: #008000; text-decoration-color: #008000\">'dado5'</span>: <span style=\"color: #008080; text-decoration-color: #008080; font-weight: bold\">2</span><span style=\"font-weight: bold\">}</span>,\n",
       "    <span style=\"font-weight: bold\">{</span><span style=\"color: #008000; text-decoration-color: #008000\">'jugador'</span>: <span style=\"color: #008080; text-decoration-color: #008080; font-weight: bold\">3</span>, <span style=\"color: #008000; text-decoration-color: #008000\">'dado1'</span>: <span style=\"color: #008080; text-decoration-color: #008080; font-weight: bold\">4</span>, <span style=\"color: #008000; text-decoration-color: #008000\">'dado2'</span>: <span style=\"color: #008080; text-decoration-color: #008080; font-weight: bold\">6</span>, <span style=\"color: #008000; text-decoration-color: #008000\">'dado3'</span>: <span style=\"color: #008080; text-decoration-color: #008080; font-weight: bold\">2</span>, <span style=\"color: #008000; text-decoration-color: #008000\">'dado4'</span>: <span style=\"color: #008080; text-decoration-color: #008080; font-weight: bold\">5</span>, <span style=\"color: #008000; text-decoration-color: #008000\">'dado5'</span>: <span style=\"color: #008080; text-decoration-color: #008080; font-weight: bold\">4</span><span style=\"font-weight: bold\">}</span>,\n",
       "    <span style=\"font-weight: bold\">{</span><span style=\"color: #008000; text-decoration-color: #008000\">'jugador'</span>: <span style=\"color: #008080; text-decoration-color: #008080; font-weight: bold\">4</span>, <span style=\"color: #008000; text-decoration-color: #008000\">'dado1'</span>: <span style=\"color: #008080; text-decoration-color: #008080; font-weight: bold\">6</span>, <span style=\"color: #008000; text-decoration-color: #008000\">'dado2'</span>: <span style=\"color: #008080; text-decoration-color: #008080; font-weight: bold\">6</span>, <span style=\"color: #008000; text-decoration-color: #008000\">'dado3'</span>: <span style=\"color: #008080; text-decoration-color: #008080; font-weight: bold\">3</span>, <span style=\"color: #008000; text-decoration-color: #008000\">'dado4'</span>: <span style=\"color: #008080; text-decoration-color: #008080; font-weight: bold\">1</span>, <span style=\"color: #008000; text-decoration-color: #008000\">'dado5'</span>: <span style=\"color: #008080; text-decoration-color: #008080; font-weight: bold\">4</span><span style=\"font-weight: bold\">}</span>\n",
       "<span style=\"font-weight: bold\">]</span>\n",
       "</pre>\n"
      ],
      "text/plain": [
       "\u001b[1m[\u001b[0m\n",
       "    \u001b[1m{\u001b[0m\u001b[32m'jugador'\u001b[0m: \u001b[1;36m1\u001b[0m, \u001b[32m'dado1'\u001b[0m: \u001b[1;36m3\u001b[0m, \u001b[32m'dado2'\u001b[0m: \u001b[1;36m5\u001b[0m, \u001b[32m'dado3'\u001b[0m: \u001b[1;36m6\u001b[0m, \u001b[32m'dado4'\u001b[0m: \u001b[1;36m6\u001b[0m, \u001b[32m'dado5'\u001b[0m: \u001b[1;36m3\u001b[0m\u001b[1m}\u001b[0m,\n",
       "    \u001b[1m{\u001b[0m\u001b[32m'jugador'\u001b[0m: \u001b[1;36m2\u001b[0m, \u001b[32m'dado1'\u001b[0m: \u001b[1;36m2\u001b[0m, \u001b[32m'dado2'\u001b[0m: \u001b[1;36m1\u001b[0m, \u001b[32m'dado3'\u001b[0m: \u001b[1;36m2\u001b[0m, \u001b[32m'dado4'\u001b[0m: \u001b[1;36m5\u001b[0m, \u001b[32m'dado5'\u001b[0m: \u001b[1;36m2\u001b[0m\u001b[1m}\u001b[0m,\n",
       "    \u001b[1m{\u001b[0m\u001b[32m'jugador'\u001b[0m: \u001b[1;36m3\u001b[0m, \u001b[32m'dado1'\u001b[0m: \u001b[1;36m4\u001b[0m, \u001b[32m'dado2'\u001b[0m: \u001b[1;36m6\u001b[0m, \u001b[32m'dado3'\u001b[0m: \u001b[1;36m2\u001b[0m, \u001b[32m'dado4'\u001b[0m: \u001b[1;36m5\u001b[0m, \u001b[32m'dado5'\u001b[0m: \u001b[1;36m4\u001b[0m\u001b[1m}\u001b[0m,\n",
       "    \u001b[1m{\u001b[0m\u001b[32m'jugador'\u001b[0m: \u001b[1;36m4\u001b[0m, \u001b[32m'dado1'\u001b[0m: \u001b[1;36m6\u001b[0m, \u001b[32m'dado2'\u001b[0m: \u001b[1;36m6\u001b[0m, \u001b[32m'dado3'\u001b[0m: \u001b[1;36m3\u001b[0m, \u001b[32m'dado4'\u001b[0m: \u001b[1;36m1\u001b[0m, \u001b[32m'dado5'\u001b[0m: \u001b[1;36m4\u001b[0m\u001b[1m}\u001b[0m\n",
       "\u001b[1m]\u001b[0m\n"
      ]
     },
     "metadata": {},
     "output_type": "display_data"
    },
    {
     "data": {
      "text/html": [
       "<pre style=\"white-space:pre;overflow-x:auto;line-height:normal;font-family:Menlo,'DejaVu Sans Mono',consolas,'Courier New',monospace\"><span style=\"font-weight: bold\">[</span>\n",
       "    <span style=\"font-weight: bold\">{</span><span style=\"color: #008000; text-decoration-color: #008000\">'jugador'</span>: <span style=\"color: #008080; text-decoration-color: #008080; font-weight: bold\">1</span>, <span style=\"color: #008000; text-decoration-color: #008000\">'dado1'</span>: <span style=\"color: #008080; text-decoration-color: #008080; font-weight: bold\">1</span>, <span style=\"color: #008000; text-decoration-color: #008000\">'dado2'</span>: <span style=\"color: #008080; text-decoration-color: #008080; font-weight: bold\">2</span>, <span style=\"color: #008000; text-decoration-color: #008000\">'dado3'</span>: <span style=\"color: #008080; text-decoration-color: #008080; font-weight: bold\">2</span>, <span style=\"color: #008000; text-decoration-color: #008000\">'dado4'</span>: <span style=\"color: #008080; text-decoration-color: #008080; font-weight: bold\">3</span>, <span style=\"color: #008000; text-decoration-color: #008000\">'dado5'</span>: <span style=\"color: #008080; text-decoration-color: #008080; font-weight: bold\">6</span><span style=\"font-weight: bold\">}</span>,\n",
       "    <span style=\"font-weight: bold\">{</span><span style=\"color: #008000; text-decoration-color: #008000\">'jugador'</span>: <span style=\"color: #008080; text-decoration-color: #008080; font-weight: bold\">2</span>, <span style=\"color: #008000; text-decoration-color: #008000\">'dado1'</span>: <span style=\"color: #008080; text-decoration-color: #008080; font-weight: bold\">2</span>, <span style=\"color: #008000; text-decoration-color: #008000\">'dado2'</span>: <span style=\"color: #008080; text-decoration-color: #008080; font-weight: bold\">1</span>, <span style=\"color: #008000; text-decoration-color: #008000\">'dado3'</span>: <span style=\"color: #008080; text-decoration-color: #008080; font-weight: bold\">2</span>, <span style=\"color: #008000; text-decoration-color: #008000\">'dado4'</span>: <span style=\"color: #008080; text-decoration-color: #008080; font-weight: bold\">5</span>, <span style=\"color: #008000; text-decoration-color: #008000\">'dado5'</span>: <span style=\"color: #008080; text-decoration-color: #008080; font-weight: bold\">2</span><span style=\"font-weight: bold\">}</span>,\n",
       "    <span style=\"font-weight: bold\">{</span><span style=\"color: #008000; text-decoration-color: #008000\">'jugador'</span>: <span style=\"color: #008080; text-decoration-color: #008080; font-weight: bold\">3</span>, <span style=\"color: #008000; text-decoration-color: #008000\">'dado1'</span>: <span style=\"color: #008080; text-decoration-color: #008080; font-weight: bold\">4</span>, <span style=\"color: #008000; text-decoration-color: #008000\">'dado2'</span>: <span style=\"color: #008080; text-decoration-color: #008080; font-weight: bold\">6</span>, <span style=\"color: #008000; text-decoration-color: #008000\">'dado3'</span>: <span style=\"color: #008080; text-decoration-color: #008080; font-weight: bold\">2</span>, <span style=\"color: #008000; text-decoration-color: #008000\">'dado4'</span>: <span style=\"color: #008080; text-decoration-color: #008080; font-weight: bold\">5</span>, <span style=\"color: #008000; text-decoration-color: #008000\">'dado5'</span>: <span style=\"color: #008080; text-decoration-color: #008080; font-weight: bold\">4</span><span style=\"font-weight: bold\">}</span>,\n",
       "    <span style=\"font-weight: bold\">{</span><span style=\"color: #008000; text-decoration-color: #008000\">'jugador'</span>: <span style=\"color: #008080; text-decoration-color: #008080; font-weight: bold\">4</span>, <span style=\"color: #008000; text-decoration-color: #008000\">'dado1'</span>: <span style=\"color: #008080; text-decoration-color: #008080; font-weight: bold\">6</span>, <span style=\"color: #008000; text-decoration-color: #008000\">'dado2'</span>: <span style=\"color: #008080; text-decoration-color: #008080; font-weight: bold\">6</span>, <span style=\"color: #008000; text-decoration-color: #008000\">'dado3'</span>: <span style=\"color: #008080; text-decoration-color: #008080; font-weight: bold\">3</span>, <span style=\"color: #008000; text-decoration-color: #008000\">'dado4'</span>: <span style=\"color: #008080; text-decoration-color: #008080; font-weight: bold\">1</span>, <span style=\"color: #008000; text-decoration-color: #008000\">'dado5'</span>: <span style=\"color: #008080; text-decoration-color: #008080; font-weight: bold\">4</span><span style=\"font-weight: bold\">}</span>\n",
       "<span style=\"font-weight: bold\">]</span>\n",
       "</pre>\n"
      ],
      "text/plain": [
       "\u001b[1m[\u001b[0m\n",
       "    \u001b[1m{\u001b[0m\u001b[32m'jugador'\u001b[0m: \u001b[1;36m1\u001b[0m, \u001b[32m'dado1'\u001b[0m: \u001b[1;36m1\u001b[0m, \u001b[32m'dado2'\u001b[0m: \u001b[1;36m2\u001b[0m, \u001b[32m'dado3'\u001b[0m: \u001b[1;36m2\u001b[0m, \u001b[32m'dado4'\u001b[0m: \u001b[1;36m3\u001b[0m, \u001b[32m'dado5'\u001b[0m: \u001b[1;36m6\u001b[0m\u001b[1m}\u001b[0m,\n",
       "    \u001b[1m{\u001b[0m\u001b[32m'jugador'\u001b[0m: \u001b[1;36m2\u001b[0m, \u001b[32m'dado1'\u001b[0m: \u001b[1;36m2\u001b[0m, \u001b[32m'dado2'\u001b[0m: \u001b[1;36m1\u001b[0m, \u001b[32m'dado3'\u001b[0m: \u001b[1;36m2\u001b[0m, \u001b[32m'dado4'\u001b[0m: \u001b[1;36m5\u001b[0m, \u001b[32m'dado5'\u001b[0m: \u001b[1;36m2\u001b[0m\u001b[1m}\u001b[0m,\n",
       "    \u001b[1m{\u001b[0m\u001b[32m'jugador'\u001b[0m: \u001b[1;36m3\u001b[0m, \u001b[32m'dado1'\u001b[0m: \u001b[1;36m4\u001b[0m, \u001b[32m'dado2'\u001b[0m: \u001b[1;36m6\u001b[0m, \u001b[32m'dado3'\u001b[0m: \u001b[1;36m2\u001b[0m, \u001b[32m'dado4'\u001b[0m: \u001b[1;36m5\u001b[0m, \u001b[32m'dado5'\u001b[0m: \u001b[1;36m4\u001b[0m\u001b[1m}\u001b[0m,\n",
       "    \u001b[1m{\u001b[0m\u001b[32m'jugador'\u001b[0m: \u001b[1;36m4\u001b[0m, \u001b[32m'dado1'\u001b[0m: \u001b[1;36m6\u001b[0m, \u001b[32m'dado2'\u001b[0m: \u001b[1;36m6\u001b[0m, \u001b[32m'dado3'\u001b[0m: \u001b[1;36m3\u001b[0m, \u001b[32m'dado4'\u001b[0m: \u001b[1;36m1\u001b[0m, \u001b[32m'dado5'\u001b[0m: \u001b[1;36m4\u001b[0m\u001b[1m}\u001b[0m\n",
       "\u001b[1m]\u001b[0m\n"
      ]
     },
     "metadata": {},
     "output_type": "display_data"
    }
   ],
   "source": [
    "def main():\n",
    "    # CANT_JUGADORES = check_cantidad_jugadores(int(input(\"¿Cuántos jugadores? \")))\n",
    "    # MAX_PUNTOS = check_puntos_iniciales(int(input(\"¿Cuántos puntos? \")))\n",
    "    CANT_JUGADORES = 4\n",
    "    MAX_PUNTOS = 2\n",
    "    JUGADORES = []\n",
    "\n",
    "    print(\"Repartiendo cachos ...\")\n",
    "\n",
    "    # Repartiendo cacho del usuario\n",
    "    jugador_usuario = generar_vaso(1)\n",
    "    JUGADORES.append(jugador_usuario)\n",
    "\n",
    "    # Repartiendo cachos para los demás jugadores (CPU)\n",
    "    for num_jugador in range(CANT_JUGADORES - 1):\n",
    "        jugador = generar_vaso(num_jugador + 2)\n",
    "        JUGADORES.append(jugador)\n",
    "    \n",
    "    \n",
    "\n",
    "    return None \n",
    "\n",
    "if __name__ == \"__main__\":\n",
    "    main()\n"
   ]
  },
  {
   "cell_type": "markdown",
   "id": "409f3183",
   "metadata": {},
   "source": [
    "## Jugadas"
   ]
  },
  {
   "cell_type": "code",
   "execution_count": 5,
   "metadata": {},
   "outputs": [
    {
     "name": "stdout",
     "output_type": "stream",
     "text": [
      "Pareja 3 3\n",
      "True\n"
     ]
    }
   ],
   "source": [
    "from random import randint\n",
    "\n",
    "def check_pareja(vaso) -> bool:\n",
    "  dados = [vaso['dado1'], vaso['dado2'], vaso['dado3'], vaso['dado4'], vaso['dado5']]\n",
    "\n",
    "  # Check if there two dados values with the same value\n",
    "  for dado in dados:\n",
    "    if dados.count(dado) == 2:\n",
    "      return True\n",
    "    \n",
    "  return None\n",
    "\n",
    "def check_doble_pareja(vaso) -> bool:\n",
    "#   pivot = vaso['dado1']\n",
    "#   for dado in dados:\n",
    "#     if (dado == pivot):\n",
    "#       print(\"Pareja\", dado, pivot)\n",
    "#       return True\n",
    "\n",
    "#   return False\n",
    "\n",
    "# vaso = {'jugador': 1, 'dado1': 3, 'dado2': 5, 'dado3': 6, 'dado4': 7, 'dado5': 8}\n",
    "# print(check_doble_pareja(vaso))\n",
    "\n",
    "def check_trio(vaso) -> bool:\n",
    "  return None\n",
    "\n",
    "def check_full(vaso) -> bool:\n",
    "  return None\n",
    "\n",
    "def check_escala(vaso) -> bool:\n",
    "  return None\n",
    "\n",
    "def check_poker(vaso) -> bool:\n",
    "  return None\n",
    "\n",
    "def check_repoker(vaso) -> bool:\n",
    "  return None\n",
    "\n"
   ]
  },
  {
   "cell_type": "markdown",
   "id": "e40465cb",
   "metadata": {},
   "source": [
    "## Funciones auxiliares"
   ]
  },
  {
   "cell_type": "code",
   "execution_count": null,
   "id": "398aa4a9",
   "metadata": {},
   "outputs": [],
   "source": [
    "def generar_vaso(num_jugador):\n",
    "  vaso = {\n",
    "    'jugador': num_jugador,\n",
    "    'dado1': randint(1, 6),\n",
    "    'dado2': randint(1, 6),\n",
    "    'dado3': randint(1, 6),\n",
    "    'dado4': randint(1, 6),\n",
    "    'dado5': randint(1, 6),\n",
    "  }\n",
    "\n",
    "  return vaso\n",
    "\n",
    "def check_cantidad_jugadores(cantidad):\n",
    "  if (4 <= cantidad <= 16):\n",
    "     return True\n",
    "  else:\n",
    "    print(\"Cantidad de jugadores no válida, debe ser entre 4 y 16\")\n",
    "    check_cantidad_jugadores(int(input(\"¿Cuántos jugadores? \")))\n",
    "\n",
    "def check_puntos_iniciales(puntos):\n",
    "  if (puntos > 0):\n",
    "    return True\n",
    "  else:\n",
    "    print(\"La cantidad de puntos debe ser mayor a 0\")\n",
    "    check_puntos_iniciales(int(input(\"Ingresa la cantidad de puntos a jugar: \")))\n"
   ]
  },
  {
   "cell_type": "code",
   "execution_count": null,
   "id": "e7109a9a",
   "metadata": {},
   "outputs": [],
   "source": []
  }
 ],
 "metadata": {
  "kernelspec": {
   "display_name": "Python 3.10.4 ('dev')",
   "language": "python",
   "name": "python3"
  },
  "language_info": {
   "codemirror_mode": {
    "name": "ipython",
    "version": 3
   },
   "file_extension": ".py",
   "mimetype": "text/x-python",
   "name": "python",
   "nbconvert_exporter": "python",
   "pygments_lexer": "ipython3",
   "version": "3.10.4"
  },
  "vscode": {
   "interpreter": {
    "hash": "715c2585543af25dacde3478fc90760426bb4221beea754f284723b4e7bbc11b"
   }
  }
 },
 "nbformat": 4,
 "nbformat_minor": 5
}
